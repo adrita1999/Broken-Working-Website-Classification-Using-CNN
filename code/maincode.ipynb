{
 "cells": [
  {
   "cell_type": "code",
   "execution_count": 3,
   "outputs": [],
   "source": [
    "# import sklearn as sklearn\n",
    "# # import keras.datasets as datasets\n",
    "# # from keras.datasets import cifar10\n",
    "from PIL import Image\n",
    "import numpy as np\n",
    "import os\n",
    "# import pandas as pd\n",
    "# import math\n",
    "# import cv2\n",
    "# import random\n",
    "# import csv\n",
    "# from sklearn.metrics import f1_score\n",
    "# import pickle as pkl\n",
    "# from numpy.lib.stride_tricks import as_strided\n",
    "# from math import floor\n",
    "# import sys\n",
    "# import seaborn as sns\n",
    "# import matplotlib.pyplot as plt\n",
    "# from sklearn.metrics import confusion_matrix\n",
    "\n",
    "path_broken_folder = 'dataset/broken'\n",
    "path_non_broken_folder = 'dataset/non-broken'"
   ],
   "metadata": {
    "collapsed": false
   }
  },
  {
   "cell_type": "markdown",
   "source": [
    "# Load Dataset"
   ],
   "metadata": {
    "collapsed": false
   }
  },
  {
   "cell_type": "code",
   "execution_count": null,
   "metadata": {
    "collapsed": true
   },
   "outputs": [],
   "source": [
    "def load_dataset():\n",
    "    all_images = []\n",
    "    image_name = []\n",
    "    all_labels = []\n",
    "\n",
    "    # get the list of all images in the broken and non-broken folder\n",
    "    broken_img_list = [f for f in os.listdir(path_broken_folder) if f.endswith('.jpg') or f.endswith('.png')]\n",
    "    nonbroken_img_list = [f for f in os.listdir(path_non_broken_folder) if f.endswith('.jpg') or f.endswith('.png')]\n",
    "\n",
    "    # convert each image into a matrix\n",
    "    for img_name in broken_img_list:\n",
    "        img = Image.open(os.path.join(path_broken_folder, img_name))\n",
    "        # print(img_name)\n",
    "        img = img.resize((224, 224))\n",
    "        img_matrix = np.array(img)\n",
    "        # img_matrix = cv2.cvtColor(img_matrix, cv2.COLOR_BGR2RGB)\n",
    "        # print(\"Image Matrix Shape:\", img_matrix.shape)\n",
    "        x_test.append(img_matrix)\n",
    "        image_name.append(img_name)\n",
    "\n",
    "    x_test = np.array(x_test)\n",
    "    x_test = x_test / 255\n",
    "    x_test = (x_test - np.mean(x_test)) / np.std(x_test)\n",
    "    # print(\"Training Image Matrix Shape:\", x_train.shape)\n",
    "    # image_info = []\n",
    "    # with open(testing_csv) as csvfile:\n",
    "    #     # print(\"opened\")\n",
    "    #     reader = csv.reader(csvfile)\n",
    "    #     next(reader) # skip header row\n",
    "    #     for row in reader:\n",
    "    #         # print(row)\n",
    "    #         image_name = row[6]\n",
    "    #         print(image_name)\n",
    "    #         image_path= os.path.join(path_testing_folder, image_name)\n",
    "    #         label = int(row[2])\n",
    "    #         print(label)\n",
    "    #         image_info.append((image_path, label))\n",
    "    return x_test, np.array(image_name)"
   ]
  }
 ],
 "metadata": {
  "kernelspec": {
   "display_name": "Python 3",
   "language": "python",
   "name": "python3"
  },
  "language_info": {
   "codemirror_mode": {
    "name": "ipython",
    "version": 2
   },
   "file_extension": ".py",
   "mimetype": "text/x-python",
   "name": "python",
   "nbconvert_exporter": "python",
   "pygments_lexer": "ipython2",
   "version": "2.7.6"
  }
 },
 "nbformat": 4,
 "nbformat_minor": 0
}
